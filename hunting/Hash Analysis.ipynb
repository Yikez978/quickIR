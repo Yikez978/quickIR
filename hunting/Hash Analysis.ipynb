{
 "cells": [
  {
   "cell_type": "markdown",
   "metadata": {},
   "source": [
    "# Hunting with iPython"
   ]
  },
  {
   "cell_type": "markdown",
   "metadata": {},
   "source": [
    "Here's how this works. First of all we're importing the right libraries. Then we're creating the elasticsearch object. Lastly, we're hunting"
   ]
  },
  {
   "cell_type": "code",
   "execution_count": 1,
   "metadata": {
    "collapsed": false
   },
   "outputs": [],
   "source": [
    "import json\n",
    "import csv\n",
    "import time\n",
    "from pyelasticsearch import ElasticSearch\n",
    "from es_methods import *\n",
    "from checkers import *\n",
    "import requests\n"
   ]
  },
  {
   "cell_type": "markdown",
   "metadata": {},
   "source": [
    "Loading the settings from the settings.json file - take the template, copy it to `settings.json` and plug in your own values. Note that you're getting to an interesting situation. You should not enable access to your ElasticSearch from the world (or even from your corporate network), so you will need a proxy.\n",
    "\n",
    "Quick and easy is to ssh proxy into the ELK box:\n",
    "\n",
    "\n",
    "`ssh -L 9200:127.0.0.1:9200 root@elk_server`"
   ]
  },
  {
   "cell_type": "code",
   "execution_count": 2,
   "metadata": {
    "collapsed": false
   },
   "outputs": [],
   "source": [
    "settings=json.load(open('settings.json'))\n",
    "es = ElasticSearch(settings['elasticsearch'])\n",
    "query={\n",
    "        \"filter\" : {\n",
    "            \"not\" : {\n",
    "                \"exists\" : { \"field\" : \"evil\" }\n",
    "            }\n",
    "    }, \"size\":20\n",
    "}"
   ]
  },
  {
   "cell_type": "markdown",
   "metadata": {},
   "source": [
    "Now that we set up the basics, we can look through the executables and check virustotal. Notice the timer - we need to make sure not to overrrun the VirusTotal API. If you would like some help with the VT api, head over to: https://www.virustotal.com/en/documentation/public-api/"
   ]
  },
  {
   "cell_type": "code",
   "execution_count": 3,
   "metadata": {
    "collapsed": false
   },
   "outputs": [
    {
     "name": "stdout",
     "output_type": "stream",
     "text": [
      "probably good C:\\ProgramData\\Microsoft\\Windows Defender\\Definition Updates\\Backup\\mpengine.dll\n",
      "probably good C:\\Users\\chadb\\AppData\\Local\\temp\\GUM71E5.tmp\\GoogleCrashHandler64.exe\n",
      "probably good C:\\Users\\chadb\\AppData\\Local\\temp\\GUM71E5.tmp\\GoogleUpdateSetup.exe\n",
      "probably good C:\\Users\\chadb\\AppData\\Local\\temp\\GUM71E5.tmp\\goopdateres_bg.dll\n",
      "probably good C:\\Users\\chadb\\AppData\\Local\\temp\\GUM71E5.tmp\\goopdateres_de.dll\n",
      "probably good C:\\Users\\chadb\\AppData\\Local\\temp\\GUM71E5.tmp\\goopdateres_es.dll\n",
      "probably good C:\\Users\\chadb\\AppData\\Local\\temp\\GUM71E5.tmp\\goopdateres_hi.dll\n",
      "probably good C:\\Users\\chadb\\AppData\\Local\\temp\\GUM71E5.tmp\\goopdateres_it.dll\n",
      "probably good C:\\Users\\chadb\\AppData\\Local\\temp\\GUM71E5.tmp\\goopdateres_lt.dll\n",
      "probably good C:\\Users\\chadb\\AppData\\Local\\temp\\GUM71E5.tmp\\goopdateres_no.dll\n",
      "probably good C:\\Users\\chadb\\AppData\\Local\\temp\\GUM71E5.tmp\\goopdateres_ru.dll\n",
      "probably good C:\\Users\\chadb\\AppData\\Local\\temp\\GUM71E5.tmp\\goopdateres_sr.dll\n",
      "probably good C:\\Users\\chadb\\AppData\\Local\\temp\\GUM71E5.tmp\\goopdateres_th.dll\n",
      "probably good C:\\Users\\chadb\\AppData\\Local\\temp\\GUM71E5.tmp\\goopdateres_zh-CN.dll\n",
      "probably good C:\\Users\\chadb\\AppData\\Local\\temp\\GUM71E5.tmp\\psuser.dll\n",
      "probably good C:\\ProgramData\\Microsoft\\Windows Defender\\Definition Updates\\{7915D26B-543E-4D2A-A661-4E92CC9A2524}\\mpengine.dll\n",
      "probably good C:\\Users\\chadb\\AppData\\Local\\temp\\GUM71E5.tmp\\GoogleCrashHandler.exe\n",
      "probably good C:\\Users\\chadb\\AppData\\Local\\temp\\GUM71E5.tmp\\GoogleUpdateOnDemand.exe\n"
     ]
    }
   ],
   "source": [
    "es_res=es.search(query,index='ioc_v2',doc_type='md5')\n",
    "for res in es_res['hits']['hits']:\n",
    "    vt_res=check_virustotal(res['_source']['hash'],settings['virustotal'])\n",
    "    time.sleep(20)\n",
    "    if vt_res and vt_res['response_code']==1 and vt_res['positives']>=4:\n",
    "        print \"ding ding ding!!!\", res['_source']\n",
    "        es.update(index='ioc_v2',doc_type='md5',doc={'evil_score':vt_res['positives']*2,'evil':True},id=res['_id'])\n",
    "    elif vt_res and vt_res['response_code']==1 and vt_res['positives']==0:\n",
    "        print \"probably good\", res['_source']['FullName']\n",
    "        es.update(index='ioc_v2',doc_type='md5',doc={\"evil\":False},id=res['_id'])"
   ]
  },
  {
   "cell_type": "markdown",
   "metadata": {},
   "source": [
    "We can check the rest against the Team Cymru database"
   ]
  },
  {
   "cell_type": "code",
   "execution_count": 8,
   "metadata": {
    "collapsed": false
   },
   "outputs": [],
   "source": [
    "es_res=es.search(query,index='ioc_v2',doc_type='md5')\n",
    "for res in es_res['hits']['hits']:\n",
    "    if check_cymru(res['_source']['hash']):\n",
    "        print \"probably wicked\", res['_source']['hash']"
   ]
  },
  {
   "cell_type": "markdown",
   "metadata": {},
   "source": [
    "If you have way too much time and computing resources on your hand, you can always md5 an entire good image and record the results in ElasticSearch\n",
    "\n",
    "OR\n",
    "\n",
    "You can download the National Software Reference Library (http://www.nsrl.nist.gov/Downloads.htm) and upload it into ElasticSearch for a list of known good hashes. Important caveat: the file is just about 20GB in size (155,213,072 hashes), so you'll need a better ELK stack than the VM"
   ]
  },
  {
   "cell_type": "code",
   "execution_count": null,
   "metadata": {
    "collapsed": true
   },
   "outputs": [],
   "source": []
  }
 ],
 "metadata": {
  "kernelspec": {
   "display_name": "Python 2",
   "language": "python",
   "name": "python2"
  },
  "language_info": {
   "codemirror_mode": {
    "name": "ipython",
    "version": 2
   },
   "file_extension": ".py",
   "mimetype": "text/x-python",
   "name": "python",
   "nbconvert_exporter": "python",
   "pygments_lexer": "ipython2",
   "version": "2.7.9"
  }
 },
 "nbformat": 4,
 "nbformat_minor": 0
}
