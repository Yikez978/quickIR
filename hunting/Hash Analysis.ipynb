{
 "cells": [
  {
   "cell_type": "markdown",
   "metadata": {},
   "source": [
    "# Hunting with iPython"
   ]
  },
  {
   "cell_type": "markdown",
   "metadata": {},
   "source": [
    "Here's how this works. First of all we're importing the right libraries. Then we're creating the elasticsearch object. Lastly, we're hunting"
   ]
  },
  {
   "cell_type": "code",
   "execution_count": 2,
   "metadata": {
    "collapsed": false
   },
   "outputs": [],
   "source": [
    "import json\n",
    "import csv\n",
    "import time\n",
    "from pyelasticsearch import ElasticSearch\n",
    "from es_methods import *\n",
    "from checkers import *\n",
    "import requests\n"
   ]
  },
  {
   "cell_type": "markdown",
   "metadata": {},
   "source": [
    "Loading the settings from the settings.json file - pay take the template and plug in your own values. Note that you're getting to an interesting situation. You should not enable access to your ElasticSearch from the world (or even from your corporate network), so you will need a proxy.\n",
    "\n",
    "Quick and easy is to ssh proxy into the ELK box:\n",
    "\n",
    "\n",
    "`ssh -L 9200:127.0.0.1:9200 root@elk_server`"
   ]
  },
  {
   "cell_type": "code",
   "execution_count": 3,
   "metadata": {
    "collapsed": false
   },
   "outputs": [],
   "source": [
    "settings=json.load(open('settings.json'))\n",
    "es = ElasticSearch(settings['elasticsearch'])\n",
    "query={\n",
    "        \"filter\" : {\n",
    "            \"not\" : {\n",
    "                \"exists\" : { \"field\" : \"evil\" }\n",
    "            }\n",
    "    }, \"size\":20\n",
    "}"
   ]
  },
  {
   "cell_type": "markdown",
   "metadata": {},
   "source": [
    "Now that we set up the basics, we can look through the executables and check virustotal. Notice the timer - we need to make sure not to overrrun the VirusTotal API. If you would like some help with the VT api, head over to: https://www.virustotal.com/en/documentation/public-api/"
   ]
  },
  {
   "cell_type": "code",
   "execution_count": 6,
   "metadata": {
    "collapsed": false
   },
   "outputs": [
    {
     "name": "stdout",
     "output_type": "stream",
     "text": [
      "probably good {u'username': u'BOX1\\\\chadb', u'hash': u'E1B44A75947137F4143308D566889837', u'Name': u'GoogleUpdate.exe', u'_source': {u'evil': False}, u'@version': u'1', u'@timestamp': u'2015-10-06T00:02:21.980Z', u'hostname': u'box1', u'host': u'127.0.0.1', u'FullName': u'C:\\\\Users\\\\chadb\\\\AppData\\\\Local\\\\temp\\\\GUM71E5.tmp\\\\GoogleUpdate.exe', u'type': u'md5'}\n",
      "probably good {u'username': u'BOX1\\\\chadb', u'hash': u'FD98434B6A06FE31A35E4BFBC827B290', u'Name': u'GoogleUpdateOnDemand.exe', u'_source': {u'evil': False}, u'@version': u'1', u'@timestamp': u'2015-10-06T00:02:22.044Z', u'hostname': u'box1', u'host': u'127.0.0.1', u'FullName': u'C:\\\\Users\\\\chadb\\\\AppData\\\\Local\\\\temp\\\\GUMFE1D.tmp\\\\GoogleUpdateOnDemand.exe', u'type': u'md5'}\n",
      "probably good {u'username': u'BOX1\\\\chadb', u'hash': u'1DC933EDEBA5DAC5E4275D655203A66B', u'Name': u'goopdateres_zh-TW.dll', u'_source': {u'evil': False}, u'@version': u'1', u'@timestamp': u'2015-10-06T00:02:22.043Z', u'hostname': u'box1', u'host': u'127.0.0.1', u'FullName': u'C:\\\\Users\\\\chadb\\\\AppData\\\\Local\\\\temp\\\\GUM71E5.tmp\\\\goopdateres_zh-TW.dll', u'type': u'md5'}\n",
      "probably good {u'username': u'BOX1\\\\chadb', u'hash': u'42FC026314618E172EC96195A2CEBEF8', u'Name': u'goopdateres_lv.dll', u'_source': {u'evil': False}, u'@version': u'1', u'@timestamp': u'2015-10-06T00:02:22.020Z', u'hostname': u'box1', u'host': u'127.0.0.1', u'FullName': u'C:\\\\Users\\\\chadb\\\\AppData\\\\Local\\\\temp\\\\GUM71E5.tmp\\\\goopdateres_lv.dll', u'type': u'md5'}\n",
      "probably good {u'username': u'BOX1\\\\chadb', u'hash': u'A8298AEC52704ECE20C4457670AF4D8E', u'Name': u'goopdateres_no.dll', u'_source': {u'evil': False}, u'@version': u'1', u'@timestamp': u'2015-10-06T00:02:22.026Z', u'hostname': u'box1', u'host': u'127.0.0.1', u'FullName': u'C:\\\\Users\\\\chadb\\\\AppData\\\\Local\\\\temp\\\\GUM71E5.tmp\\\\goopdateres_no.dll', u'type': u'md5'}\n",
      "probably good {u'username': u'BOX1\\\\chadb', u'hash': u'53157EE06503B7204509571FA27A4A84', u'Name': u'goopdateres_ru.dll', u'_source': {u'evil': False}, u'@version': u'1', u'@timestamp': u'2015-10-06T00:02:22.027Z', u'hostname': u'box1', u'host': u'127.0.0.1', u'FullName': u'C:\\\\Users\\\\chadb\\\\AppData\\\\Local\\\\temp\\\\GUM71E5.tmp\\\\goopdateres_ru.dll', u'type': u'md5'}\n",
      "probably good {u'username': u'BOX1\\\\chadb', u'hash': u'73C6820A1943E7965084093F29F8F0E1', u'Name': u'goopdateres_sv.dll', u'_source': {u'evil': False}, u'@version': u'1', u'@timestamp': u'2015-10-06T00:02:22.028Z', u'hostname': u'box1', u'host': u'127.0.0.1', u'FullName': u'C:\\\\Users\\\\chadb\\\\AppData\\\\Local\\\\temp\\\\GUM71E5.tmp\\\\goopdateres_sv.dll', u'type': u'md5'}\n",
      "probably good {u'username': u'BOX1\\\\chadb', u'hash': u'21EDCE3E2260EAB2A566B8C0AF179457', u'Name': u'goopdateres_tr.dll', u'_source': {u'evil': False}, u'@version': u'1', u'@timestamp': u'2015-10-06T00:02:22.043Z', u'hostname': u'box1', u'host': u'127.0.0.1', u'FullName': u'C:\\\\Users\\\\chadb\\\\AppData\\\\Local\\\\temp\\\\GUM71E5.tmp\\\\goopdateres_tr.dll', u'type': u'md5'}\n",
      "probably good {u'username': u'BOX1\\\\chadb', u'hash': u'821CC209D61D0ED1F4C86ABE0C8A1319', u'Name': u'psuser_64.dll', u'_source': {u'evil': False}, u'@version': u'1', u'@timestamp': u'2015-10-06T00:02:22.044Z', u'hostname': u'box1', u'host': u'127.0.0.1', u'FullName': u'C:\\\\Users\\\\chadb\\\\AppData\\\\Local\\\\temp\\\\GUM71E5.tmp\\\\psuser_64.dll', u'type': u'md5'}\n",
      "probably good {u'username': u'BOX1\\\\chadb', u'hash': u'5F0A3AA68785C49454F56C9F2DDA0237', u'Name': u'GoogleUpdateWebPlugin.exe', u'_source': {u'evil': False}, u'@version': u'1', u'@timestamp': u'2015-10-06T00:02:21.980Z', u'hostname': u'box1', u'host': u'127.0.0.1', u'FullName': u'C:\\\\Users\\\\chadb\\\\AppData\\\\Local\\\\temp\\\\GUM71E5.tmp\\\\GoogleUpdateWebPlugin.exe', u'type': u'md5'}\n",
      "probably good {u'username': u'BOX1\\\\chadb', u'hash': u'971505410E9D0E478819CB0827C29003', u'Name': u'goopdateres_bn.dll', u'_source': {u'evil': False}, u'@version': u'1', u'@timestamp': u'2015-10-06T00:02:21.981Z', u'hostname': u'box1', u'host': u'127.0.0.1', u'FullName': u'C:\\\\Users\\\\chadb\\\\AppData\\\\Local\\\\temp\\\\GUM71E5.tmp\\\\goopdateres_bn.dll', u'type': u'md5'}\n",
      "probably good {u'username': u'BOX1\\\\chadb', u'hash': u'8376DE3F4AE6C65FE95329C363C9CDFF', u'Name': u'goopdateres_et.dll', u'_source': {u'evil': False}, u'@version': u'1', u'@timestamp': u'2015-10-06T00:02:22.007Z', u'hostname': u'box1', u'host': u'127.0.0.1', u'FullName': u'C:\\\\Users\\\\chadb\\\\AppData\\\\Local\\\\temp\\\\GUM71E5.tmp\\\\goopdateres_et.dll', u'type': u'md5'}\n",
      "probably good {u'username': u'BOX1\\\\chadb', u'hash': u'6887C86B15606714FA83F2DE91D8C11E', u'Name': u'goopdateres_hr.dll', u'_source': {u'evil': False}, u'@version': u'1', u'@timestamp': u'2015-10-06T00:02:22.008Z', u'hostname': u'box1', u'host': u'127.0.0.1', u'FullName': u'C:\\\\Users\\\\chadb\\\\AppData\\\\Local\\\\temp\\\\GUM71E5.tmp\\\\goopdateres_hr.dll', u'type': u'md5'}\n",
      "probably good {u'username': u'BOX1\\\\chadb', u'hash': u'4C02536F4CA35911FB3EA5715F300C57', u'Name': u'GoogleUpdateBroker.exe', u'_source': {u'evil': False}, u'@version': u'1', u'@timestamp': u'2015-10-06T00:02:21.980Z', u'hostname': u'box1', u'host': u'127.0.0.1', u'FullName': u'C:\\\\Users\\\\chadb\\\\AppData\\\\Local\\\\temp\\\\GUM71E5.tmp\\\\GoogleUpdateBroker.exe', u'type': u'md5'}\n",
      "probably good {u'username': u'BOX1\\\\chadb', u'hash': u'18D4BD259CC873E9B3FF4914DA172907', u'Name': u'goopdateres_en-GB.dll', u'_source': {u'evil': False}, u'@version': u'1', u'@timestamp': u'2015-10-06T00:02:22.006Z', u'hostname': u'box1', u'host': u'127.0.0.1', u'FullName': u'C:\\\\Users\\\\chadb\\\\AppData\\\\Local\\\\temp\\\\GUM71E5.tmp\\\\goopdateres_en-GB.dll', u'type': u'md5'}\n",
      "probably good {u'username': u'BOX1\\\\chadb', u'hash': u'6411443A52288BE615738674CFA126AE', u'Name': u'goopdateres_fil.dll', u'_source': {u'evil': False}, u'@version': u'1', u'@timestamp': u'2015-10-06T00:02:22.007Z', u'hostname': u'box1', u'host': u'127.0.0.1', u'FullName': u'C:\\\\Users\\\\chadb\\\\AppData\\\\Local\\\\temp\\\\GUM71E5.tmp\\\\goopdateres_fil.dll', u'type': u'md5'}\n",
      "probably good {u'username': u'BOX1\\\\chadb', u'hash': u'D9F0EB11CB71E0911CAF44B4EA0856BE', u'Name': u'goopdateres_ja.dll', u'_source': {u'evil': False}, u'@version': u'1', u'@timestamp': u'2015-10-06T00:02:22.009Z', u'hostname': u'box1', u'host': u'127.0.0.1', u'FullName': u'C:\\\\Users\\\\chadb\\\\AppData\\\\Local\\\\temp\\\\GUM71E5.tmp\\\\goopdateres_ja.dll', u'type': u'md5'}\n",
      "probably good {u'username': u'BOX1\\\\chadb', u'hash': u'6C74C327F8A83049694A61FF58E8BEF1', u'Name': u'goopdateres_ca.dll', u'_source': {u'evil': False}, u'@version': u'1', u'@timestamp': u'2015-10-06T00:02:21.981Z', u'hostname': u'box1', u'host': u'127.0.0.1', u'FullName': u'C:\\\\Users\\\\chadb\\\\AppData\\\\Local\\\\temp\\\\GUM71E5.tmp\\\\goopdateres_ca.dll', u'type': u'md5'}\n"
     ]
    }
   ],
   "source": [
    "es_res=es.search(query,index='ioc_v2',doc_type='md5')\n",
    "for res in es_res['hits']['hits']:\n",
    "    #if True:\n",
    "    if 'Local' in res['_source']['FullName']:\n",
    "        vt_res=check_virustotal(res['_source']['hash'],settings['virustotal'])\n",
    "        time.sleep(20)\n",
    "        if vt_res and vt_res['response_code']==1 and vt_res['positives']>=4:\n",
    "            print \"ding ding ding!!!\", res['_source']\n",
    "            es.update(index='ioc_v2',doc_type='md5',doc={'evil_score':vt_res['positives']*2,'evil':True},id=res['_id'])\n",
    "        elif vt_res and vt_res['response_code']==1 and vt_res['positives']==0:\n",
    "            print \"probably good\", res['_source']\n",
    "            es.update(index='ioc_v2',doc_type='md5',doc={\"evil\":False},id=res['_id'])"
   ]
  },
  {
   "cell_type": "markdown",
   "metadata": {},
   "source": [
    "We can check the rest against the Team Cymru database"
   ]
  },
  {
   "cell_type": "code",
   "execution_count": 9,
   "metadata": {
    "collapsed": false
   },
   "outputs": [],
   "source": [
    "es_res=es.search(query,index='ioc_evil:truev2',doc_type='md5')\n",
    "for res in es_res['hits']['hits']:\n",
    "    if check_cymru(res['_source']['hash']):\n",
    "        print \"probably wicked\", res['_source']['hash']"
   ]
  },
  {
   "cell_type": "markdown",
   "metadata": {},
   "source": [
    "If you have way too much time and computing resources on your hand, you can always md5 an entire good image and record the results in ElasticSearch\n",
    "\n",
    "OR\n",
    "\n",
    "You can download the National Software Reference Library (http://www.nsrl.nist.gov/Downloads.htm) and upload it into ElasticSearch for a list of known good hashes. Important caveat: the file is just about 20GB in size (155,213,072 hashes), so you'll need a better ELK stack than the VM"
   ]
  },
  {
   "cell_type": "code",
   "execution_count": null,
   "metadata": {
    "collapsed": true
   },
   "outputs": [],
   "source": []
  }
 ],
 "metadata": {
  "kernelspec": {
   "display_name": "Python 2",
   "language": "python",
   "name": "python2"
  },
  "language_info": {
   "codemirror_mode": {
    "name": "ipython",
    "version": 2
   },
   "file_extension": ".py",
   "mimetype": "text/x-python",
   "name": "python",
   "nbconvert_exporter": "python",
   "pygments_lexer": "ipython2",
   "version": "2.7.9"
  }
 },
 "nbformat": 4,
 "nbformat_minor": 0
}
